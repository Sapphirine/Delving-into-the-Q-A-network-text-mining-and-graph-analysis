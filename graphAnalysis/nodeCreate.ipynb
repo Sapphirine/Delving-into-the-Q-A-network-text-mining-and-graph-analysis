{
 "cells": [
  {
   "cell_type": "code",
   "execution_count": 1,
   "metadata": {
    "collapsed": true
   },
   "outputs": [],
   "source": [
    "import xml.etree.ElementTree as ET\n",
    "from pandas import DataFrame, Series\n",
    "import numpy as np\n",
    "import pandas as pd\n",
    "from scipy.stats.stats import pearsonr\n",
    "from datetime import datetime\n",
    "import time\n",
    "from time import mktime\n",
    "import sys\n",
    "sys.path.insert(0, '/Users/Zhen/Desktop/Courses/BigData/stackexchange/topicModeling')\n",
    "from Word2VecUtility import Word2VecUtility\n",
    "import sklearn\n",
    "import sklearn.feature_extraction\n",
    "from bs4 import BeautifulSoup"
   ]
  },
  {
   "cell_type": "code",
   "execution_count": 11,
   "metadata": {
    "collapsed": true
   },
   "outputs": [],
   "source": [
    "path='/Users/Zhen/Desktop/Courses/BigData/stackexchange/data/'"
   ]
  },
  {
   "cell_type": "code",
   "execution_count": 12,
   "metadata": {
    "collapsed": false
   },
   "outputs": [],
   "source": [
    "# read post data\n",
    "post_tree=ET.parse(path+'Posts.xml')\n",
    "###### psot node\n",
    "post=[(i.attrib.get(\"Id\"), i.attrib.get(\"PostTypeId\"),\\\n",
    "\t\ti.attrib.get(\"CreationDate\"),\\\n",
    "\t\ti.attrib.get(\"Title\"),\\\n",
    "\t\tBeautifulSoup(i.attrib.get(\"Body\").replace('\\n',''),'html.parser').get_text() ,\\\n",
    "\t\tpost_tree.getroot()[1].attrib.get(\"Tags\").replace('<','').split('>')[:-1] if i.attrib.get(\"Tags\") is not None else None,\n",
    "\t\ti.attrib.get(\"ViewCount\"),\\\n",
    "\t\ti.attrib.get(\"FavoriteCount\"))\\\n",
    "\t\tfor i in post_tree.getroot() if i.attrib.get(\"PostTypeId\") in ['1','2']]\n",
    "post_frame=DataFrame(post,columns=['ID','Type','CreationDate','Title','Body','Tags','ViewCount','FavoriteCount'])\n",
    "post_frame.to_csv('/Users/Zhen/Desktop/Courses/BigData/stackexchange/data/post.csv',sep=';',encoding = 'utf-8',index=False)"
   ]
  },
  {
   "cell_type": "code",
   "execution_count": 13,
   "metadata": {
    "collapsed": true
   },
   "outputs": [],
   "source": [
    "\n",
    "####### User\n",
    "user_tree=ET.parse(path+'Users.xml')\n",
    "user=[(i.attrib.get(\"Id\"), i.attrib.get(\"Reputation\"),\\\n",
    "\t\ti.attrib.get(\"CreationDate\"),\\\n",
    "\t\ti.attrib.get(\"Location\"),\\\n",
    "\t\ti.attrib.get(\"UpVotes\"),\n",
    "\t\ti.attrib.get(\"DownVotes\"),\\\n",
    "\t\ti.attrib.get(\"Age\")) for i in user_tree.getroot()] \n",
    "user_frame=DataFrame(user,columns=['ID','Reputation','CreationDate','Location','UpVotes','DownVotes','Age'])\n",
    "user_frame.to_csv(path+'user.csv',sep=';',encoding = 'utf-8',index=False)"
   ]
  },
  {
   "cell_type": "code",
   "execution_count": 14,
   "metadata": {
    "collapsed": true
   },
   "outputs": [],
   "source": [
    "###### Tags\n",
    "tag_tree=ET.parse(path+'Tags.xml')\n",
    "tag=[(i.attrib.get(\"Id\"),i.attrib.get(\"TagName\"),i.attrib.get(\"Count\")) for i in tag_tree.getroot()]\n",
    "tag_frame = DataFrame(tag,columns=['ID',\"TagName\",'Count'] )\n",
    "tag_frame.to_csv(path+'tag.csv',sep=';',encoding = 'utf-8',index=False)"
   ]
  },
  {
   "cell_type": "code",
   "execution_count": 15,
   "metadata": {
    "collapsed": true
   },
   "outputs": [],
   "source": [
    "###### post relationship\n",
    "post_relation=[(i.attrib.get(\"Id\"), \n",
    "\t\ti.attrib.get(\"ParentId\"))\\\n",
    "\t\t for i in post_tree.getroot() if i.attrib.get(\"PostTypeId\") in ['2']]\n",
    "post_relation_frame=DataFrame(post_relation,columns=['START_ID','END_ID'])\n",
    "post_relation_frame.to_csv(path+'post_relation.csv',sep=';',encoding = 'utf-8',index=False)\n"
   ]
  },
  {
   "cell_type": "code",
   "execution_count": 16,
   "metadata": {
    "collapsed": true
   },
   "outputs": [],
   "source": [
    "\n",
    "###### User post relationship\n",
    "up=[(i.attrib.get(\"Id\"),\\\n",
    "\ti.attrib.get(\"OwnerUserId\"),\\\n",
    "\t'ask' if i.attrib.get(\"PostTypeId\") =='1' else 'answer')\\\n",
    "\tfor i in post_tree.getroot() if i.attrib.get(\"PostTypeId\") in ['1','2']]\n",
    "up_frame = \tDataFrame(up, columns=['Id',\"OwnerUserId\",'Type'])\n",
    "up_frame.to_csv(path+'userPost.csv',sep=';',encoding = 'utf-8',index=False)"
   ]
  },
  {
   "cell_type": "code",
   "execution_count": 17,
   "metadata": {
    "collapsed": true
   },
   "outputs": [],
   "source": [
    "###### post tag relations  \n",
    "post_tree.getroot()[1].attrib.get(\"Tags\").replace('<','').split('>')[:-1]\n",
    "post_tag_relation=list()\n",
    "for i in post_tree.getroot():\n",
    "\tif ((i.attrib.get(\"PostTypeId\") in ['1']) & (i.attrib.get(\"Tags\") is not None)):\n",
    "\t\tfor j in i.attrib.get(\"Tags\").replace('<','').split('>')[:-1]:\n",
    "\t\t\tpost_tag_relation.append((i.attrib.get(\"Id\"),j))\n",
    "post_tag_relation_frame = DataFrame(post_tag_relation, columns=['ID','Tag'])\n",
    "post_tag_relation_frame.to_csv(path+'post_tag_relation_frame.csv',sep=';',encoding = 'utf-8',index=False)"
   ]
  },
  {
   "cell_type": "code",
   "execution_count": null,
   "metadata": {
    "collapsed": true
   },
   "outputs": [],
   "source": []
  }
 ],
 "metadata": {
  "kernelspec": {
   "display_name": "Python 2",
   "language": "python",
   "name": "python2"
  },
  "language_info": {
   "codemirror_mode": {
    "name": "ipython",
    "version": 2
   },
   "file_extension": ".py",
   "mimetype": "text/x-python",
   "name": "python",
   "nbconvert_exporter": "python",
   "pygments_lexer": "ipython2",
   "version": "2.7.9"
  }
 },
 "nbformat": 4,
 "nbformat_minor": 0
}
