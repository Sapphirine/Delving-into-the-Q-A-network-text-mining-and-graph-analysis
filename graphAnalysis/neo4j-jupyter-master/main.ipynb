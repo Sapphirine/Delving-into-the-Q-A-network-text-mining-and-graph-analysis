{
 "cells": [
  {
   "cell_type": "markdown",
   "metadata": {},
   "source": [
    "# Data Science with Python and Neo4j\n",
    "\n",
    "## Packages You'll Need\n",
    "\n",
    "```\n",
    "pip install py2neo\n",
    "pip install ipython-cypher\n",
    "pip install pandas\n",
    "pip install networkx\n",
    "pip install python-igraph\n",
    "pip install plotly\n",
    "```\n",
    "\n",
    "## Contents\n",
    "\n",
    "### [Hello World](hello-world.html)\n",
    "\n",
    "* py2neo\n",
    "* ipython-cypher\n",
    "  - pandas\n",
    "  - NetworkX\n",
    "* igraph\n",
    "* graph3d\n",
    "\n",
    "### [Example Project](twitter.html)\n",
    "\n",
    "* Import\n",
    "* Charts\n",
    "* Graph Algorithms\n",
    "* Graph Visualizations"
   ]
  }
 ],
 "metadata": {
  "kernelspec": {
   "display_name": "Python 2",
   "language": "python",
   "name": "python2"
  },
  "language_info": {
   "codemirror_mode": {
    "name": "ipython",
    "version": 2
   },
   "file_extension": ".py",
   "mimetype": "text/x-python",
   "name": "python",
   "nbconvert_exporter": "python",
   "pygments_lexer": "ipython2",
   "version": "2.7.6"
  }
 },
 "nbformat": 4,
 "nbformat_minor": 0
}
