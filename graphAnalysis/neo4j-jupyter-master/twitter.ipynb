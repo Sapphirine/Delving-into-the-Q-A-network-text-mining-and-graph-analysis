{
 "cells": [
  {
   "cell_type": "markdown",
   "metadata": {
    "slideshow": {
     "slide_type": "slide"
    }
   },
   "source": [
    "# Example Project\n",
    "\n",
    "We're going to import Twitter data into Neo4j and then do various analysis on top of this dataset including plotting, graph algorithms, and graph visualizations."
   ]
  },
  {
   "cell_type": "markdown",
   "metadata": {
    "slideshow": {
     "slide_type": "slide"
    }
   },
   "source": [
    "# Import\n",
    "\n",
    "The script for importing data from Twitter's API is in [`scripts/twitter.py`](https://github.com/nicolewhite/neo4j-jupyter/blob/master/scripts/twitter.py). This was used to upload tweets that contained either the words \"python\", \"rstats\", or \"neo4j\" to Neo4j."
   ]
  },
  {
   "cell_type": "code",
   "execution_count": 21,
   "metadata": {
    "collapsed": false,
    "slideshow": {
     "slide_type": "fragment"
    }
   },
   "outputs": [
    {
     "data": {
      "text/html": [
       "\n",
       "        <iframe\n",
       "            width=\"100%\"\n",
       "            height=\"400\"\n",
       "            src=\"figure/graph-27b43ac1-63f2-4c2f-ba56-7f176c7babf4.html\"\n",
       "            frameborder=\"0\"\n",
       "            allowfullscreen\n",
       "        ></iframe>\n",
       "        "
      ],
      "text/plain": [
       "<IPython.lib.display.IFrame at 0x11098ef50>"
      ]
     },
     "execution_count": 21,
     "metadata": {},
     "output_type": "execute_result"
    }
   ],
   "source": [
    "from scripts.vis import draw\n",
    "from py2neo import Graph\n",
    "\n",
    "graph = Graph()\n",
    "options = {\"User\": \"username\", \"Hashtag\": \"name\"}\n",
    "\n",
    "draw(graph, options, physics=True, limit=30)"
   ]
  },
  {
   "cell_type": "markdown",
   "metadata": {
    "slideshow": {
     "slide_type": "slide"
    }
   },
   "source": [
    "# Plotting\n",
    "\n",
    "Let's gather some basic insights by creating `plotly` charts."
   ]
  },
  {
   "cell_type": "code",
   "execution_count": 22,
   "metadata": {
    "collapsed": false,
    "slideshow": {
     "slide_type": "fragment"
    }
   },
   "outputs": [
    {
     "name": "stdout",
     "output_type": "stream",
     "text": [
      "The cypher extension is already loaded. To reload it, use:\n",
      "  %reload_ext cypher\n"
     ]
    }
   ],
   "source": [
    "%load_ext cypher\n",
    "import plotly.plotly as py\n",
    "from plotly.graph_objs import *"
   ]
  },
  {
   "cell_type": "markdown",
   "metadata": {
    "slideshow": {
     "slide_type": "slide"
    }
   },
   "source": [
    "# What are the top hashtags?\n",
    "\n",
    "Find hashtags ordered by the number of tweets they've tagged."
   ]
  },
  {
   "cell_type": "code",
   "execution_count": 23,
   "metadata": {
    "collapsed": false,
    "slideshow": {
     "slide_type": "fragment"
    }
   },
   "outputs": [
    {
     "name": "stdout",
     "output_type": "stream",
     "text": [
      "5 rows affected.\n"
     ]
    },
    {
     "data": {
      "text/html": [
       "<div>\n",
       "<table border=\"1\" class=\"dataframe\">\n",
       "  <thead>\n",
       "    <tr style=\"text-align: right;\">\n",
       "      <th></th>\n",
       "      <th>hashtag</th>\n",
       "      <th>tweets</th>\n",
       "    </tr>\n",
       "  </thead>\n",
       "  <tbody>\n",
       "    <tr>\n",
       "      <th>0</th>\n",
       "      <td>python</td>\n",
       "      <td>271</td>\n",
       "    </tr>\n",
       "    <tr>\n",
       "      <th>1</th>\n",
       "      <td>machinelearning</td>\n",
       "      <td>33</td>\n",
       "    </tr>\n",
       "    <tr>\n",
       "      <th>2</th>\n",
       "      <td>neo4j</td>\n",
       "      <td>33</td>\n",
       "    </tr>\n",
       "    <tr>\n",
       "      <th>3</th>\n",
       "      <td>deeplearning</td>\n",
       "      <td>31</td>\n",
       "    </tr>\n",
       "    <tr>\n",
       "      <th>4</th>\n",
       "      <td>java</td>\n",
       "      <td>19</td>\n",
       "    </tr>\n",
       "  </tbody>\n",
       "</table>\n",
       "</div>"
      ],
      "text/plain": [
       "           hashtag  tweets\n",
       "0           python     271\n",
       "1  machinelearning      33\n",
       "2            neo4j      33\n",
       "3     deeplearning      31\n",
       "4             java      19"
      ]
     },
     "execution_count": 23,
     "metadata": {},
     "output_type": "execute_result"
    }
   ],
   "source": [
    "result = %cypher MATCH (hashtag:Hashtag)-[:TAGS]->(tweet:Tweet) \\\n",
    "                 RETURN hashtag.name AS hashtag, COUNT(tweet) AS tweets \\\n",
    "                 ORDER BY tweets DESC LIMIT 5\n",
    "        \n",
    "df = result.get_dataframe()\n",
    "df.head()"
   ]
  },
  {
   "cell_type": "code",
   "execution_count": 24,
   "metadata": {
    "collapsed": false,
    "slideshow": {
     "slide_type": "slide"
    }
   },
   "outputs": [
    {
     "data": {
      "image/png": "[encoded data removed]",
      "text/plain": [
       "<IPython.core.display.Image object>"
      ]
     },
     "metadata": {},
     "output_type": "display_data"
    }
   ],
   "source": [
    "data = Data([Bar(x=df[\"hashtag\"], y=df[\"tweets\"])])\n",
    "\n",
    "py.image.ishow({'data': data})"
   ]
  },
  {
   "cell_type": "markdown",
   "metadata": {
    "slideshow": {
     "slide_type": "slide"
    }
   },
   "source": [
    "# What's the hashtag and mention count distribution?"
   ]
  },
  {
   "cell_type": "code",
   "execution_count": 25,
   "metadata": {
    "collapsed": false,
    "slideshow": {
     "slide_type": "fragment"
    }
   },
   "outputs": [
    {
     "name": "stdout",
     "output_type": "stream",
     "text": [
      "1156 rows affected.\n"
     ]
    },
    {
     "data": {
      "text/html": [
       "<div>\n",
       "<table border=\"1\" class=\"dataframe\">\n",
       "  <thead>\n",
       "    <tr style=\"text-align: right;\">\n",
       "      <th></th>\n",
       "      <th>hashtags</th>\n",
       "      <th>mentions</th>\n",
       "    </tr>\n",
       "  </thead>\n",
       "  <tbody>\n",
       "    <tr>\n",
       "      <th>0</th>\n",
       "      <td>1</td>\n",
       "      <td>5</td>\n",
       "    </tr>\n",
       "    <tr>\n",
       "      <th>1</th>\n",
       "      <td>0</td>\n",
       "      <td>1</td>\n",
       "    </tr>\n",
       "    <tr>\n",
       "      <th>2</th>\n",
       "      <td>2</td>\n",
       "      <td>1</td>\n",
       "    </tr>\n",
       "    <tr>\n",
       "      <th>3</th>\n",
       "      <td>0</td>\n",
       "      <td>2</td>\n",
       "    </tr>\n",
       "    <tr>\n",
       "      <th>4</th>\n",
       "      <td>0</td>\n",
       "      <td>0</td>\n",
       "    </tr>\n",
       "  </tbody>\n",
       "</table>\n",
       "</div>"
      ],
      "text/plain": [
       "   hashtags  mentions\n",
       "0         1         5\n",
       "1         0         1\n",
       "2         2         1\n",
       "3         0         2\n",
       "4         0         0"
      ]
     },
     "execution_count": 25,
     "metadata": {},
     "output_type": "execute_result"
    }
   ],
   "source": [
    "result = %cypher MATCH (tweet:Tweet) \\\n",
    "                 OPTIONAL MATCH (hashtag:Hashtag)-[:TAGS]->(tweet) \\\n",
    "                 OPTIONAL MATCH (tweet)-[:MENTIONS]->(mention:User) \\\n",
    "                 RETURN tweet.id, COUNT(DISTINCT hashtag) AS hashtags, COUNT(DISTINCT mention) AS mentions\n",
    "            \n",
    "df = result.get_dataframe()\n",
    "del df[\"tweet.id\"]\n",
    "df.head()"
   ]
  },
  {
   "cell_type": "code",
   "execution_count": 26,
   "metadata": {
    "collapsed": false,
    "slideshow": {
     "slide_type": "slide"
    }
   },
   "outputs": [
    {
     "data": {
      "image/png": "[encoded data removed]",
      "text/plain": [
       "<IPython.core.display.Image object>"
      ]
     },
     "metadata": {},
     "output_type": "display_data"
    }
   ],
   "source": [
    "hashtags = Histogram(x=df[\"hashtags\"], opacity=0.75, name=\"Hashtags\")\n",
    "mentions = Histogram(x=df[\"mentions\"], opacity=0.75, name=\"Mentions\")\n",
    "data = Data([hashtags, mentions])\n",
    "layout = Layout(barmode=\"overlay\")\n",
    "fig = Figure(data=data, layout=layout)\n",
    "\n",
    "py.image.ishow(fig)"
   ]
  },
  {
   "cell_type": "markdown",
   "metadata": {
    "slideshow": {
     "slide_type": "slide"
    }
   },
   "source": [
    "# Graph Algorithms\n",
    "\n",
    "The typical workflow consists of retrieving a subgraph from Neo4j via Cypher and analyzing this graph in `igraph`."
   ]
  },
  {
   "cell_type": "markdown",
   "metadata": {
    "slideshow": {
     "slide_type": "slide"
    }
   },
   "source": [
    "\n",
    "# A subgraph of users mentioning other users"
   ]
  },
  {
   "cell_type": "code",
   "execution_count": 27,
   "metadata": {
    "collapsed": false,
    "slideshow": {
     "slide_type": "fragment"
    }
   },
   "outputs": [
    {
     "data": {
      "text/plain": [
       "<igraph.Graph at 0x10ff61ce8>"
      ]
     },
     "execution_count": 27,
     "metadata": {},
     "output_type": "execute_result"
    }
   ],
   "source": [
    "from igraph import Graph as IGraph\n",
    "\n",
    "query = \"\"\"\n",
    "MATCH (user1:User)-[:POSTS]->(tweet:Tweet)-[:MENTIONS]->(user2:User)\n",
    "RETURN user1.username, user2.username, COUNT(*) AS weight\n",
    "\"\"\"\n",
    "\n",
    "data = graph.cypher.execute(query)\n",
    "\n",
    "ig = IGraph.TupleList(data, weights=True)\n",
    "ig"
   ]
  },
  {
   "cell_type": "markdown",
   "metadata": {
    "slideshow": {
     "slide_type": "slide"
    }
   },
   "source": [
    "# Which users have the highest betweenness?\n",
    "\n",
    "$betweenness(v) = \\sum_{s, t \\in V} \\frac{\\sigma_{st}(v)}{\\sigma_{st}}$\n",
    "\n",
    "The betweenness centrality of a node $v$ is the number of shortest paths that pass through $v$, $\\sigma_{st}(v)$,  divided by the total number of shortest paths, $\\sigma_{st}$."
   ]
  },
  {
   "cell_type": "code",
   "execution_count": 28,
   "metadata": {
    "collapsed": false,
    "slideshow": {
     "slide_type": "fragment"
    }
   },
   "outputs": [
    {
     "data": {
      "text/plain": [
       "[(u'neo4j', 3431.4333333333343),\n",
       " (u'sagarawasthi', 1486.0),\n",
       " (u'Dev_Topics', 1382.0),\n",
       " (u'OReillyMedia', 905.0),\n",
       " (u'rasbt', 716.0)]"
      ]
     },
     "execution_count": 28,
     "metadata": {},
     "output_type": "execute_result"
    }
   ],
   "source": [
    "data = [(node[\"name\"], node.betweenness()) for node in ig.vs]\n",
    "top = sorted(data, key=lambda x: x[1], reverse=True)\n",
    "top[:5]"
   ]
  },
  {
   "cell_type": "markdown",
   "metadata": {
    "slideshow": {
     "slide_type": "slide"
    }
   },
   "source": [
    "# A subgraph of hashtags mutually tagging tweets"
   ]
  },
  {
   "cell_type": "code",
   "execution_count": 29,
   "metadata": {
    "collapsed": false,
    "slideshow": {
     "slide_type": "fragment"
    }
   },
   "outputs": [
    {
     "data": {
      "text/plain": [
       "<igraph.Graph at 0x110866908>"
      ]
     },
     "execution_count": 29,
     "metadata": {},
     "output_type": "execute_result"
    }
   ],
   "source": [
    "query = \"\"\"\n",
    "MATCH (h1:Hashtag)-[:TAGS]->(tweet:Tweet)<-[:TAGS]-(h2:Hashtag)\n",
    "WHERE NOT (tweet)-[:RETWEETS|REPLY_TO]->() AND h1.name < h2.name AND\n",
    "      NOT 'python' in [h1.name, h2.name]\n",
    "RETURN h1.name, h2.name, COUNT(*) AS weight\n",
    "\"\"\"\n",
    "\n",
    "data = graph.cypher.execute(query)\n",
    "\n",
    "ig = IGraph.TupleList(data, weights=True)\n",
    "ig"
   ]
  },
  {
   "cell_type": "markdown",
   "metadata": {
    "slideshow": {
     "slide_type": "slide"
    }
   },
   "source": [
    "# Community detection"
   ]
  },
  {
   "cell_type": "code",
   "execution_count": 30,
   "metadata": {
    "collapsed": false,
    "slideshow": {
     "slide_type": "fragment"
    }
   },
   "outputs": [
    {
     "data": {
      "text/plain": [
       "36"
      ]
     },
     "execution_count": 30,
     "metadata": {},
     "output_type": "execute_result"
    }
   ],
   "source": [
    "clusters = IGraph.community_walktrap(ig, weights=\"weight\")\n",
    "clusters = clusters.as_clustering()\n",
    "len(clusters)"
   ]
  },
  {
   "cell_type": "code",
   "execution_count": 31,
   "metadata": {
    "collapsed": false,
    "slideshow": {
     "slide_type": "fragment"
    }
   },
   "outputs": [
    {
     "data": {
      "text/plain": [
       "[{'id': u'code', 'label': u'code'},\n",
       " {'id': u'shoes', 'label': u'shoes'},\n",
       " {'id': u'nosql', 'label': u'nosql'},\n",
       " {'id': u'rest', 'label': u'rest'},\n",
       " {'id': u'pythonrulez', 'label': u'pythonrulez'}]"
      ]
     },
     "execution_count": 31,
     "metadata": {},
     "output_type": "execute_result"
    }
   ],
   "source": [
    "nodes = list(set([x[0] for x in data] + [x[1] for x in data]))\n",
    "nodes = [{\"id\": x, \"label\": x} for x in nodes]\n",
    "nodes[:5]"
   ]
  },
  {
   "cell_type": "code",
   "execution_count": 32,
   "metadata": {
    "collapsed": false,
    "slideshow": {
     "slide_type": "slide"
    }
   },
   "outputs": [
    {
     "data": {
      "text/plain": [
       "[{'group': 7, 'id': u'code', 'label': u'code'},\n",
       " {'group': 15, 'id': u'shoes', 'label': u'shoes'},\n",
       " {'group': 4, 'id': u'nosql', 'label': u'nosql'},\n",
       " {'group': 17, 'id': u'rest', 'label': u'rest'},\n",
       " {'group': 8, 'id': u'pythonrulez', 'label': u'pythonrulez'}]"
      ]
     },
     "execution_count": 32,
     "metadata": {},
     "output_type": "execute_result"
    }
   ],
   "source": [
    "for node in nodes:\n",
    "    idx = ig.vs.find(name=node[\"id\"]).index\n",
    "    node[\"group\"] = clusters.membership[idx]\n",
    "    \n",
    "nodes[:5]"
   ]
  },
  {
   "cell_type": "code",
   "execution_count": 33,
   "metadata": {
    "collapsed": false,
    "slideshow": {
     "slide_type": "fragment"
    }
   },
   "outputs": [
    {
     "data": {
      "text/plain": [
       "[{'from': u'aws', 'to': u'az'},\n",
       " {'from': u'job', 'to': u'kellyjobs'},\n",
       " {'from': u'addins', 'to': u'geodev'},\n",
       " {'from': u'it', 'to': u'rhtechjobs'},\n",
       " {'from': u'django', 'to': u'jobs'}]"
      ]
     },
     "execution_count": 33,
     "metadata": {},
     "output_type": "execute_result"
    }
   ],
   "source": [
    "edges = [{\"from\": x[0], \"to\": x[1]} for x in data]\n",
    "edges[:5]"
   ]
  },
  {
   "cell_type": "code",
   "execution_count": 34,
   "metadata": {
    "collapsed": false,
    "slideshow": {
     "slide_type": "slide"
    }
   },
   "outputs": [
    {
     "data": {
      "text/html": [
       "\n",
       "        <iframe\n",
       "            width=\"100%\"\n",
       "            height=\"400\"\n",
       "            src=\"figure/graph-9063e073-f51f-46ca-bf9b-279f10c519a9.html\"\n",
       "            frameborder=\"0\"\n",
       "            allowfullscreen\n",
       "        ></iframe>\n",
       "        "
      ],
      "text/plain": [
       "<IPython.lib.display.IFrame at 0x1108bcbd0>"
      ]
     },
     "execution_count": 34,
     "metadata": {},
     "output_type": "execute_result"
    }
   ],
   "source": [
    "from scripts.vis import vis_network\n",
    "vis_network(nodes, edges, physics=True)"
   ]
  },
  {
   "cell_type": "markdown",
   "metadata": {
    "collapsed": true,
    "slideshow": {
     "slide_type": "fragment"
    }
   },
   "source": [
    "<blockquote class=\"twitter-tweet\" data-partner=\"tweetdeck\"><p lang=\"en\" dir=\"ltr\">Learning <a href=\"https://twitter.com/neo4j\">@neo4j</a> &#39;s <a href=\"https://twitter.com/hashtag/Cypher?src=hash\">#Cypher</a>. Yes Yet Another Query language but damn it&#39;s fast and pretty! <a href=\"https://twitter.com/hashtag/Win?src=hash\">#Win</a></p>&mdash; Gregory Vangilbergen (@GregVang) <a href=\"https://twitter.com/GregVang/status/646288351969021952\">September 22, 2015</a></blockquote>\n",
    "<script async src=\"//platform.twitter.com/widgets.js\" charset=\"utf-8\"></script>"
   ]
  },
  {
   "cell_type": "markdown",
   "metadata": {
    "slideshow": {
     "slide_type": "slide"
    }
   },
   "source": [
    "# Retweets and replies structure\n",
    "\n",
    "Let's visualize (in 3D!) the structure of users retweeting and replying to other users."
   ]
  },
  {
   "cell_type": "code",
   "execution_count": 38,
   "metadata": {
    "collapsed": false,
    "slideshow": {
     "slide_type": "fragment"
    }
   },
   "outputs": [
    {
     "data": {
      "text/html": [
       "<div id=\"graph-e28140bc-87df-4b15-a745-703b5ee0a7b3\"></div>\n",
       "           <script type=\"text/javascript\">\n",
       "           require.config({baseUrl: '/',\n",
       "                             paths: {igraph: ['nbextensions/igraph.min', 'https://rawgit.com/patrickfuller/igraph/master/js/build/igraph.min']}});\n",
       "           require(['igraph'], function () {\n",
       "               var $d = $('#graph-e28140bc-87df-4b15-a745-703b5ee0a7b3');\n",
       "               $d.width(600); $d.height(400);\n",
       "               $d.igraph = jQuery.extend({}, igraph);\n",
       "               $d.igraph.create($d, {nodeSize: 2.000000,\n",
       "                                     edgeSize: 0.250000,\n",
       "                                     defaultNodeColor: '0x5bc0de',\n",
       "                                     defaultEdgeColor: '0xaaaaaa',\n",
       "                                     shader: 'basic',\n",
       "                                     z: 100,\n",
       "                                     runOptimization: true,\n",
       "                                     directed: true});\n",
       "               $d.igraph.draw({\n",
       "    \"edges\": [\n",
       "        { \"source\": 57, \"target\": 58 },\n",
       "        { \"source\": 76, \"target\": 78 },\n",
       "        { \"source\": 87, \"target\": 88 },\n",
       "        { \"source\": 98, \"target\": 88 },\n",
       "        { \"source\": 151, \"target\": 152 },\n",
       "        { \"source\": 157, \"target\": 158 },\n",
       "        { \"source\": 172, \"target\": 173 },\n",
       "        { \"source\": 185, \"target\": 78 },\n",
       "        { \"source\": 189, \"target\": 22 },\n",
       "        { \"source\": 196, \"target\": 81 },\n",
       "        { \"source\": 196, \"target\": 81 },\n",
       "        { \"source\": 219, \"target\": 224 },\n",
       "        { \"source\": 196, \"target\": 81 },\n",
       "        { \"source\": 273, \"target\": 78 },\n",
       "        { \"source\": 338, \"target\": 52 },\n",
       "        { \"source\": 405, \"target\": 158 },\n",
       "        { \"source\": 350, \"target\": 349 },\n",
       "        { \"source\": 458, \"target\": 460 },\n",
       "        { \"source\": 463, \"target\": 460 },\n",
       "        { \"source\": 244, \"target\": 243 },\n",
       "        { \"source\": 507, \"target\": 61 },\n",
       "        { \"source\": 189, \"target\": 390 },\n",
       "        { \"source\": 189, \"target\": 460 },\n",
       "        { \"source\": 232, \"target\": 583 },\n",
       "        { \"source\": 665, \"target\": 395 },\n",
       "        { \"source\": 673, \"target\": 100 },\n",
       "        { \"source\": 695, \"target\": 698 },\n",
       "        { \"source\": 711, \"target\": 671 },\n",
       "        { \"source\": 752, \"target\": 58 },\n",
       "        { \"source\": 189, \"target\": 22 },\n",
       "        { \"source\": 787, \"target\": 583 },\n",
       "        { \"source\": 801, \"target\": 322 },\n",
       "        { \"source\": 903, \"target\": 754 },\n",
       "        { \"source\": 931, \"target\": 681 },\n",
       "        { \"source\": 906, \"target\": 905 },\n",
       "        { \"source\": 929, \"target\": 929 },\n",
       "        { \"source\": 975, \"target\": 322 },\n",
       "        { \"source\": 1002, \"target\": 989 },\n",
       "        { \"source\": 695, \"target\": 1011 },\n",
       "        { \"source\": 1053, \"target\": 991 },\n",
       "        { \"source\": 1079, \"target\": 1079 },\n",
       "        { \"source\": 1098, \"target\": 1099 },\n",
       "        { \"source\": 1150, \"target\": 1099 },\n",
       "        { \"source\": 1152, \"target\": 1099 },\n",
       "        { \"source\": 1172, \"target\": 311 },\n",
       "        { \"source\": 1175, \"target\": 1055 },\n",
       "        { \"source\": 1184, \"target\": 1099 },\n",
       "        { \"source\": 1186, \"target\": 1099 },\n",
       "        { \"source\": 1198, \"target\": 1099 },\n",
       "        { \"source\": 913, \"target\": 1099 },\n",
       "        { \"source\": 681, \"target\": 1099 },\n",
       "        { \"source\": 1214, \"target\": 1099 },\n",
       "        { \"source\": 1224, \"target\": 1099 },\n",
       "        { \"source\": 1269, \"target\": 1270 },\n",
       "        { \"source\": 1017, \"target\": 1018 },\n",
       "        { \"source\": 1327, \"target\": 1055 },\n",
       "        { \"source\": 1356, \"target\": 1035 },\n",
       "        { \"source\": 1461, \"target\": 1463 },\n",
       "        { \"source\": 695, \"target\": 81 },\n",
       "        { \"source\": 1492, \"target\": 1099 },\n",
       "        { \"source\": 1507, \"target\": 1099 },\n",
       "        { \"source\": 1511, \"target\": 1498 },\n",
       "        { \"source\": 1552, \"target\": 1553 },\n",
       "        { \"source\": 1601, \"target\": 913 },\n",
       "        { \"source\": 1645, \"target\": 1646 },\n",
       "        { \"source\": 1651, \"target\": 1099 },\n",
       "        { \"source\": 1667, \"target\": 1653 },\n",
       "        { \"source\": 1672, \"target\": 81 },\n",
       "        { \"source\": 1694, \"target\": 1498 },\n",
       "        { \"source\": 1718, \"target\": 322 },\n",
       "        { \"source\": 1765, \"target\": 1498 },\n",
       "        { \"source\": 1382, \"target\": 1381 },\n",
       "        { \"source\": 1756, \"target\": 1755 },\n",
       "        { \"source\": 1809, \"target\": 1382 },\n",
       "        { \"source\": 1382, \"target\": 1381 },\n",
       "        { \"source\": 695, \"target\": 1805 },\n",
       "        { \"source\": 1842, \"target\": 1824 },\n",
       "        { \"source\": 1091, \"target\": 1867 },\n",
       "        { \"source\": 1902, \"target\": 1900 },\n",
       "        { \"source\": 2023, \"target\": 1099 },\n",
       "        { \"source\": 2065, \"target\": 2009 },\n",
       "        { \"source\": 2091, \"target\": 58 },\n",
       "        { \"source\": 2104, \"target\": 1099 },\n",
       "        { \"source\": 787, \"target\": 2058 },\n",
       "        { \"source\": 2185, \"target\": 2186 },\n",
       "        { \"source\": 2189, \"target\": 2177 },\n",
       "        { \"source\": 2191, \"target\": 2177 },\n",
       "        { \"source\": 2208, \"target\": 2186 },\n",
       "        { \"source\": 2210, \"target\": 2177 },\n",
       "        { \"source\": 2177, \"target\": 2214 },\n",
       "        { \"source\": 2226, \"target\": 2227 },\n",
       "        { \"source\": 2245, \"target\": 2177 },\n",
       "        { \"source\": 2177, \"target\": 2227 },\n",
       "        { \"source\": 2249, \"target\": 2227 },\n",
       "        { \"source\": 2251, \"target\": 2252 },\n",
       "        { \"source\": 2256, \"target\": 2177 },\n",
       "        { \"source\": 2258, \"target\": 2177 },\n",
       "        { \"source\": 2258, \"target\": 2177 },\n",
       "        { \"source\": 2261, \"target\": 2252 },\n",
       "        { \"source\": 2177, \"target\": 2252 },\n",
       "        { \"source\": 2214, \"target\": 2266 },\n",
       "        { \"source\": 2261, \"target\": 2266 },\n",
       "        { \"source\": 2270, \"target\": 2266 },\n",
       "        { \"source\": 2177, \"target\": 2266 },\n",
       "        { \"source\": 2277, \"target\": 2278 },\n",
       "        { \"source\": 2278, \"target\": 2277 },\n",
       "        { \"source\": 2282, \"target\": 2177 },\n",
       "        { \"source\": 2284, \"target\": 2177 },\n",
       "        { \"source\": 2286, \"target\": 2177 },\n",
       "        { \"source\": 2288, \"target\": 2177 },\n",
       "        { \"source\": 2290, \"target\": 2177 },\n",
       "        { \"source\": 2292, \"target\": 2294 },\n",
       "        { \"source\": 2303, \"target\": 2294 },\n",
       "        { \"source\": 2231, \"target\": 2294 },\n",
       "        { \"source\": 2310, \"target\": 2310 },\n",
       "        { \"source\": 2310, \"target\": 2310 },\n",
       "        { \"source\": 2295, \"target\": 2294 },\n",
       "        { \"source\": 2325, \"target\": 2294 },\n",
       "        { \"source\": 2177, \"target\": 2294 },\n",
       "        { \"source\": 2230, \"target\": 2294 },\n",
       "        { \"source\": 2310, \"target\": 2177 },\n",
       "        { \"source\": 2215, \"target\": 2214 },\n",
       "        { \"source\": 2349, \"target\": 2351 },\n",
       "        { \"source\": 2355, \"target\": 2351 },\n",
       "        { \"source\": 2357, \"target\": 2177 },\n",
       "        { \"source\": 1904, \"target\": 2177 },\n",
       "        { \"source\": 2177, \"target\": 2389 },\n",
       "        { \"source\": 2392, \"target\": 2351 },\n",
       "        { \"source\": 2394, \"target\": 2351 },\n",
       "        { \"source\": 2396, \"target\": 2177 },\n",
       "        { \"source\": 2413, \"target\": 2351 },\n",
       "        { \"source\": 2415, \"target\": 2351 }\n",
       "    ],\n",
       "    \"nodes\": {\n",
       "        \"22\": { \"location\": [ -2.000, -2.000, -2.000 ] },\n",
       "        \"52\": { \"location\": [ -2.000, -2.000, -2.000 ] },\n",
       "        \"57\": { \"location\": [ -2.000, -2.000, -2.000 ] },\n",
       "        \"58\": { \"location\": [ -2.000, -2.000, -2.000 ] },\n",
       "        \"61\": { \"location\": [ -2.000, -2.000, -2.000 ] },\n",
       "        \"76\": { \"location\": [ -2.000, -2.000, -2.000 ] },\n",
       "        \"78\": { \"location\": [ -2.000, -2.000, -2.000 ] },\n",
       "        \"81\": { \"location\": [ -2.000, -2.000, -2.000 ] },\n",
       "        \"87\": { \"location\": [ -2.000, -2.000, -2.000 ] },\n",
       "        \"88\": { \"location\": [ -2.000, -2.000, -2.000 ] },\n",
       "        \"98\": { \"location\": [ -2.000, -2.000, -2.000 ] },\n",
       "        \"100\": { \"location\": [ -2.000, -2.000, -2.000 ] },\n",
       "        \"151\": { \"location\": [ -2.000, -2.000, -2.000 ] },\n",
       "        \"152\": { \"location\": [ -2.000, -2.000, -2.000 ] },\n",
       "        \"157\": { \"location\": [ -2.000, -2.000, -2.000 ] },\n",
       "        \"158\": { \"location\": [ -2.000, -2.000, -2.000 ] },\n",
       "        \"172\": { \"location\": [ -2.000, -2.000, -2.000 ] },\n",
       "        \"173\": { \"location\": [ -2.000, -2.000, -2.000 ] },\n",
       "        \"185\": { \"location\": [ -2.000, -2.000, -2.000 ] },\n",
       "        \"189\": { \"location\": [ -2.000, -2.000, -2.000 ] },\n",
       "        \"196\": { \"location\": [ -2.000, -2.000, -2.000 ] },\n",
       "        \"219\": { \"location\": [ -2.000, -2.000, -2.000 ] },\n",
       "        \"224\": { \"location\": [ -0.569, 1.619, -0.049 ] },\n",
       "        \"232\": { \"location\": [ 2.000, 1.963, 2.000 ] },\n",
       "        \"243\": { \"location\": [ 2.000, 2.000, 2.000 ] },\n",
       "        \"244\": { \"location\": [ 2.000, 2.000, 2.000 ] },\n",
       "        \"273\": { \"location\": [ -2.000, -2.000, -2.000 ] },\n",
       "        \"311\": { \"location\": [ 2.000, 2.000, 2.000 ] },\n",
       "        \"322\": { \"location\": [ 2.000, 2.000, 2.000 ] },\n",
       "        \"338\": { \"location\": [ 2.000, 2.000, 2.000 ] },\n",
       "        \"349\": { \"location\": [ 2.000, 2.000, 2.000 ] },\n",
       "        \"350\": { \"location\": [ 2.000, 2.000, 2.000 ] },\n",
       "        \"390\": { \"location\": [ 2.000, 2.000, 2.000 ] },\n",
       "        \"395\": { \"location\": [ 2.000, 2.000, 2.000 ] },\n",
       "        \"405\": { \"location\": [ 2.000, 2.000, 2.000 ] },\n",
       "        \"458\": { \"location\": [ 2.000, 2.000, 2.000 ] },\n",
       "        \"460\": { \"location\": [ 2.000, 2.000, 2.000 ] },\n",
       "        \"463\": { \"location\": [ -2.000, -2.000, -2.000 ] },\n",
       "        \"507\": { \"location\": [ 2.000, 2.000, 2.000 ] },\n",
       "        \"583\": { \"location\": [ -2.000, -2.000, -2.000 ] },\n",
       "        \"665\": { \"location\": [ -2.000, -2.000, -2.000 ] },\n",
       "        \"671\": { \"location\": [ -2.000, -2.000, -2.000 ] },\n",
       "        \"673\": { \"location\": [ -2.000, -2.000, -2.000 ] },\n",
       "        \"681\": { \"location\": [ -2.000, -2.000, -2.000 ] },\n",
       "        \"695\": { \"location\": [ -2.000, -2.000, -2.000 ] },\n",
       "        \"698\": { \"location\": [ -2.000, -2.000, -2.000 ] },\n",
       "        \"711\": { \"location\": [ -2.000, -2.000, -2.000 ] },\n",
       "        \"752\": { \"location\": [ 2.000, 2.000, 2.000 ] },\n",
       "        \"754\": { \"location\": [ 2.000, 2.000, 2.000 ] },\n",
       "        \"787\": { \"location\": [ 2.000, 2.000, 2.000 ] },\n",
       "        \"801\": { \"location\": [ 2.000, 2.000, 2.000 ] },\n",
       "        \"903\": { \"location\": [ 2.000, 2.000, 2.000 ] },\n",
       "        \"905\": { \"location\": [ 2.000, 2.000, 2.000 ] },\n",
       "        \"906\": { \"location\": [ 2.000, 2.000, 2.000 ] },\n",
       "        \"913\": { \"location\": [ 2.000, 2.000, 2.000 ] },\n",
       "        \"929\": { \"location\": [ 2.000, 2.000, 2.000 ] },\n",
       "        \"931\": { \"location\": [ 2.000, 2.000, 2.000 ] },\n",
       "        \"975\": { \"location\": [ 2.000, 2.000, 2.000 ] },\n",
       "        \"989\": { \"location\": [ 2.000, 2.000, 2.000 ] },\n",
       "        \"991\": { \"location\": [ 2.000, 2.000, 2.000 ] },\n",
       "        \"1002\": { \"location\": [ 2.000, 2.000, 2.000 ] },\n",
       "        \"1011\": { \"location\": [ 2.000, 2.000, 2.000 ] },\n",
       "        \"1017\": { \"location\": [ 2.000, 2.000, 2.000 ] },\n",
       "        \"1018\": { \"location\": [ 2.000, 2.000, 2.000 ] },\n",
       "        \"1035\": { \"location\": [ -2.000, -2.000, -2.000 ] },\n",
       "        \"1053\": { \"location\": [ -2.000, -2.000, -2.000 ] },\n",
       "        \"1055\": { \"location\": [ -2.000, -2.000, -2.000 ] },\n",
       "        \"1079\": { \"location\": [ -2.000, -2.000, -2.000 ] },\n",
       "        \"1091\": { \"location\": [ -2.000, -2.000, -2.000 ] },\n",
       "        \"1098\": { \"location\": [ -2.000, -2.000, -2.000 ] },\n",
       "        \"1099\": { \"location\": [ 2.000, 2.000, 2.000 ] },\n",
       "        \"1150\": { \"location\": [ -2.000, -2.000, -2.000 ] },\n",
       "        \"1152\": { \"location\": [ -2.000, -2.000, -2.000 ] },\n",
       "        \"1172\": { \"location\": [ -2.000, -2.000, -2.000 ] },\n",
       "        \"1175\": { \"location\": [ 2.000, 2.000, 2.000 ] },\n",
       "        \"1184\": { \"location\": [ -2.000, -2.000, -2.000 ] },\n",
       "        \"1186\": { \"location\": [ -2.000, -2.000, -2.000 ] },\n",
       "        \"1198\": { \"location\": [ -2.000, -2.000, -2.000 ] },\n",
       "        \"1214\": { \"location\": [ -2.000, -2.000, -2.000 ] },\n",
       "        \"1224\": { \"location\": [ -2.000, -2.000, -2.000 ] },\n",
       "        \"1269\": { \"location\": [ 2.000, 2.000, 2.000 ] },\n",
       "        \"1270\": { \"location\": [ 2.000, 2.000, 2.000 ] },\n",
       "        \"1327\": { \"location\": [ 2.000, 2.000, 2.000 ] },\n",
       "        \"1356\": { \"location\": [ 2.000, 2.000, 2.000 ] },\n",
       "        \"1381\": { \"location\": [ 2.000, 2.000, 2.000 ] },\n",
       "        \"1382\": { \"location\": [ 2.000, 2.000, 2.000 ] },\n",
       "        \"1461\": { \"location\": [ -2.000, -2.000, -2.000 ] },\n",
       "        \"1463\": { \"location\": [ 2.000, 2.000, 2.000 ] },\n",
       "        \"1492\": { \"location\": [ 2.000, 2.000, 2.000 ] },\n",
       "        \"1498\": { \"location\": [ 2.000, 2.000, 2.000 ] },\n",
       "        \"1507\": { \"location\": [ 2.000, 2.000, 2.000 ] },\n",
       "        \"1511\": { \"location\": [ 2.000, 2.000, 2.000 ] },\n",
       "        \"1552\": { \"location\": [ -2.000, -2.000, -2.000 ] },\n",
       "        \"1553\": { \"location\": [ -2.000, -2.000, -2.000 ] },\n",
       "        \"1601\": { \"location\": [ -2.000, -2.000, -2.000 ] },\n",
       "        \"1645\": { \"location\": [ -2.000, -2.000, -2.000 ] },\n",
       "        \"1646\": { \"location\": [ -2.000, -2.000, -2.000 ] },\n",
       "        \"1651\": { \"location\": [ -2.000, -2.000, -2.000 ] },\n",
       "        \"1653\": { \"location\": [ -2.000, -2.000, -2.000 ] },\n",
       "        \"1667\": { \"location\": [ -2.000, -2.000, -2.000 ] },\n",
       "        \"1672\": { \"location\": [ -2.000, -2.000, -2.000 ] },\n",
       "        \"1694\": { \"location\": [ 2.000, 2.000, 2.000 ] },\n",
       "        \"1718\": { \"location\": [ -2.000, -2.000, -2.000 ] },\n",
       "        \"1755\": { \"location\": [ 2.000, 2.000, 2.000 ] },\n",
       "        \"1756\": { \"location\": [ 0.445, -2.000, -2.000 ] },\n",
       "        \"1765\": { \"location\": [ 2.000, 2.000, 2.000 ] },\n",
       "        \"1805\": { \"location\": [ 2.000, 2.000, 2.000 ] },\n",
       "        \"1809\": { \"location\": [ 2.000, 2.000, 2.000 ] },\n",
       "        \"1824\": { \"location\": [ 2.000, 2.000, 2.000 ] },\n",
       "        \"1842\": { \"location\": [ 2.000, 2.000, 2.000 ] },\n",
       "        \"1867\": { \"location\": [ 2.000, 2.000, 2.000 ] },\n",
       "        \"1900\": { \"location\": [ 2.000, 2.000, 2.000 ] },\n",
       "        \"1902\": { \"location\": [ 2.000, 2.000, 2.000 ] },\n",
       "        \"1904\": { \"location\": [ 2.000, 2.000, 2.000 ] },\n",
       "        \"2009\": { \"location\": [ 2.000, 2.000, 2.000 ] },\n",
       "        \"2023\": { \"location\": [ 2.000, 2.000, 2.000 ] },\n",
       "        \"2058\": { \"location\": [ -2.000, -2.000, -2.000 ] },\n",
       "        \"2065\": { \"location\": [ -2.000, -2.000, -2.000 ] },\n",
       "        \"2091\": { \"location\": [ -2.000, -2.000, -2.000 ] },\n",
       "        \"2104\": { \"location\": [ -2.000, -2.000, -2.000 ] },\n",
       "        \"2177\": { \"location\": [ -2.000, -2.000, -2.000 ] },\n",
       "        \"2185\": { \"location\": [ -2.000, -2.000, -2.000 ] },\n",
       "        \"2186\": { \"location\": [ -2.000, -2.000, -2.000 ] },\n",
       "        \"2189\": { \"location\": [ -2.000, -2.000, -2.000 ] },\n",
       "        \"2191\": { \"location\": [ -2.000, -2.000, -2.000 ] },\n",
       "        \"2208\": { \"location\": [ 2.000, 2.000, 2.000 ] },\n",
       "        \"2210\": { \"location\": [ 2.000, 2.000, 2.000 ] },\n",
       "        \"2214\": { \"location\": [ -2.000, -2.000, -2.000 ] },\n",
       "        \"2215\": { \"location\": [ -2.000, -2.000, -2.000 ] },\n",
       "        \"2226\": { \"location\": [ -2.000, -2.000, -2.000 ] },\n",
       "        \"2227\": { \"location\": [ -2.000, -2.000, -2.000 ] },\n",
       "        \"2230\": { \"location\": [ -2.000, -2.000, -2.000 ] },\n",
       "        \"2231\": { \"location\": [ -2.000, -2.000, -2.000 ] },\n",
       "        \"2245\": { \"location\": [ -2.000, -2.000, -2.000 ] },\n",
       "        \"2249\": { \"location\": [ -2.000, -2.000, -2.000 ] },\n",
       "        \"2251\": { \"location\": [ -2.000, -2.000, -2.000 ] },\n",
       "        \"2252\": { \"location\": [ -2.000, -2.000, -2.000 ] },\n",
       "        \"2256\": { \"location\": [ -2.000, -2.000, -2.000 ] },\n",
       "        \"2258\": { \"location\": [ -2.000, -2.000, -2.000 ] },\n",
       "        \"2261\": { \"location\": [ -2.000, -2.000, -2.000 ] },\n",
       "        \"2266\": { \"location\": [ -2.000, -1.249, -2.000 ] },\n",
       "        \"2270\": { \"location\": [ -2.000, -1.759, -2.000 ] },\n",
       "        \"2277\": { \"location\": [ 2.000, 1.745, 2.000 ] },\n",
       "        \"2278\": { \"location\": [ -0.076, 1.631, 1.775 ] },\n",
       "        \"2282\": { \"location\": [ 2.000, 2.000, 2.000 ] },\n",
       "        \"2284\": { \"location\": [ 2.000, 2.000, 2.000 ] },\n",
       "        \"2286\": { \"location\": [ 2.000, 2.000, 2.000 ] },\n",
       "        \"2288\": { \"location\": [ 2.000, 2.000, 2.000 ] },\n",
       "        \"2290\": { \"location\": [ 2.000, 2.000, 2.000 ] },\n",
       "        \"2292\": { \"location\": [ 2.000, 2.000, 2.000 ] },\n",
       "        \"2294\": { \"location\": [ 2.000, 2.000, 2.000 ] },\n",
       "        \"2295\": { \"location\": [ 2.000, 2.000, 2.000 ] },\n",
       "        \"2303\": { \"location\": [ 2.000, 2.000, 2.000 ] },\n",
       "        \"2310\": { \"location\": [ 2.000, 2.000, 2.000 ] },\n",
       "        \"2325\": { \"location\": [ 2.000, 2.000, 2.000 ] },\n",
       "        \"2349\": { \"location\": [ 2.000, 2.000, 2.000 ] },\n",
       "        \"2351\": { \"location\": [ 2.000, 2.000, 2.000 ] },\n",
       "        \"2355\": { \"location\": [ 2.000, 2.000, 2.000 ] },\n",
       "        \"2357\": { \"location\": [ 2.000, 2.000, 2.000 ] },\n",
       "        \"2389\": { \"location\": [ 2.000, 2.000, 2.000 ] },\n",
       "        \"2392\": { \"location\": [ 2.000, 2.000, 2.000 ] },\n",
       "        \"2394\": { \"location\": [ 2.000, 2.000, 2.000 ] },\n",
       "        \"2396\": { \"location\": [ 2.000, 2.000, 2.000 ] },\n",
       "        \"2413\": { \"location\": [ 2.000, 2.000, 2.000 ] },\n",
       "        \"2415\": { \"location\": [ 2.000, 2.000, 2.000 ] }\n",
       "    }\n",
       "});\n",
       "\n",
       "               $d.resizable({\n",
       "                   aspectRatio: 600 / 400,\n",
       "                   resize: function (evt, ui) {\n",
       "                       $d.igraph.renderer.setSize(ui.size.width,\n",
       "                                                  ui.size.height);\n",
       "                   }\n",
       "               });\n",
       "           });\n",
       "           </script>"
      ],
      "text/plain": [
       "<IPython.core.display.HTML object>"
      ]
     },
     "metadata": {},
     "output_type": "display_data"
    }
   ],
   "source": [
    "import graph3d\n",
    "\n",
    "query = \"\"\"\n",
    "MATCH (user1:User)-[:POSTS]->(:Tweet)-[:RETWEETS|REPLY_TO]->(:Tweet)<-[:POSTS]-(user2:User)\n",
    "RETURN ID(user1), ID(user2)\n",
    "\"\"\"\n",
    "\n",
    "data = graph.cypher.execute(query)\n",
    "tup = [tuple(x) for x in data]\n",
    "\n",
    "graph3d.draw(tup)"
   ]
  }
 ],
 "metadata": {
  "celltoolbar": "Slideshow",
  "kernelspec": {
   "display_name": "Python 2",
   "language": "python",
   "name": "python2"
  },
  "language_info": {
   "codemirror_mode": {
    "name": "ipython",
    "version": 2
   },
   "file_extension": ".py",
   "mimetype": "text/x-python",
   "name": "python",
   "nbconvert_exporter": "python",
   "pygments_lexer": "ipython2",
   "version": "2.7.6"
  }
 },
 "nbformat": 4,
 "nbformat_minor": 0
}
